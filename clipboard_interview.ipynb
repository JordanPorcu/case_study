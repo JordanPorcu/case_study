{
 "cells": [
  {
   "cell_type": "markdown",
   "metadata": {},
   "source": [
    "# Clipboard Health - Case Study - By Jordan Porcu\n"
   ]
  },
  {
   "cell_type": "markdown",
   "metadata": {},
   "source": [
    "## Abstract\n",
    "\n",
    "In this case study, the main goal is to find the best tarification for a hail-riding company. Here are few information we have :\n",
    ">+ The ride is between Toledo Airport and Downtown.\n",
    ">+ Two main people : \"riders\" are the ones who need a ride and \"drivers\" are the ones who conduct riders to destination.\n",
    ">+ The study takes place for a full year only.\n",
    "\n",
    "And here are the few constraints : \n",
    ">+ The company charges 30$ (fixed price) for the riders to take the ride.\n",
    ">+ The number of rides asked by riders and accepted by drivers are determined following a Poisson distribution.\n",
    ">+ The $\\lambda$ factor of the Poisson distribution is equal 1 for the first month a rider enters the study. Then, it becomes the number of accepted rides for the next month, and so forth.\n",
    ">+ Only 10,000 riders a year, and 1,000 riders a month\n",
    "\n",
    "Finally, the goal here is to find the optimal tarification the company has to set for drivers, using information, common sense and data analytics, respecting the constraints."
   ]
  },
  {
   "cell_type": "markdown",
   "metadata": {},
   "source": [
    "## Table of content \n",
    "* [Library importation](#library)\n",
    "* [Data exploration](#data-exp)\n",
    "* [Using external data](#external-data)\n",
    "* [Settings](#settings)\n",
    "* [Annual simulation](#annual-simulation)\n",
    "* [Results interpretation](#interpretation)"
   ]
  },
  {
   "cell_type": "markdown",
   "metadata": {},
   "source": [
    "## Library importation <a class=\"anchor\" id=\"library\"></a>"
   ]
  },
  {
   "cell_type": "code",
   "execution_count": 1,
   "metadata": {},
   "outputs": [],
   "source": [
    "import pandas as pd\n",
    "import numpy as np\n",
    "import seaborn as sns\n",
    "import matplotlib.pyplot as plt\n",
    "from sklearn.preprocessing import MinMaxScaler\n",
    "from tqdm import tqdm"
   ]
  },
  {
   "cell_type": "markdown",
   "metadata": {},
   "source": [
    "## Data exploration <a class=\"anchor\" id=\"data-exp\"></a>"
   ]
  },
  {
   "cell_type": "markdown",
   "metadata": {},
   "source": [
    "Our first goal here is to find the relation between the pay offered to a driver and the probability he/she will accept to take the ride.\n",
    "Let's clear the data first :"
   ]
  },
  {
   "cell_type": "code",
   "execution_count": 2,
   "metadata": {},
   "outputs": [
    {
     "data": {
      "text/html": [
       "<div>\n",
       "<style scoped>\n",
       "    .dataframe tbody tr th:only-of-type {\n",
       "        vertical-align: middle;\n",
       "    }\n",
       "\n",
       "    .dataframe tbody tr th {\n",
       "        vertical-align: top;\n",
       "    }\n",
       "\n",
       "    .dataframe thead th {\n",
       "        text-align: right;\n",
       "    }\n",
       "</style>\n",
       "<table border=\"1\" class=\"dataframe\">\n",
       "  <thead>\n",
       "    <tr style=\"text-align: right;\">\n",
       "      <th></th>\n",
       "      <th>PAY</th>\n",
       "      <th>ACCEPTED</th>\n",
       "    </tr>\n",
       "  </thead>\n",
       "  <tbody>\n",
       "    <tr>\n",
       "      <th>0</th>\n",
       "      <td>29.358732</td>\n",
       "      <td>0</td>\n",
       "    </tr>\n",
       "    <tr>\n",
       "      <th>1</th>\n",
       "      <td>22.986847</td>\n",
       "      <td>0</td>\n",
       "    </tr>\n",
       "    <tr>\n",
       "      <th>2</th>\n",
       "      <td>18.020348</td>\n",
       "      <td>0</td>\n",
       "    </tr>\n",
       "    <tr>\n",
       "      <th>3</th>\n",
       "      <td>45.730717</td>\n",
       "      <td>1</td>\n",
       "    </tr>\n",
       "    <tr>\n",
       "      <th>4</th>\n",
       "      <td>14.642845</td>\n",
       "      <td>0</td>\n",
       "    </tr>\n",
       "  </tbody>\n",
       "</table>\n",
       "</div>"
      ],
      "text/plain": [
       "         PAY  ACCEPTED\n",
       "0  29.358732         0\n",
       "1  22.986847         0\n",
       "2  18.020348         0\n",
       "3  45.730717         1\n",
       "4  14.642845         0"
      ]
     },
     "metadata": {},
     "output_type": "display_data"
    },
    {
     "data": {
      "text/plain": [
       "PAY         0\n",
       "ACCEPTED    0\n",
       "dtype: int64"
      ]
     },
     "execution_count": 2,
     "metadata": {},
     "output_type": "execute_result"
    }
   ],
   "source": [
    "# Data importation\n",
    "data = pd.read_csv(\"data.csv\",index_col=0)\n",
    "display(data.head(5))\n",
    "# Are there NaNs ? \n",
    "data.isna().sum()"
   ]
  },
  {
   "cell_type": "markdown",
   "metadata": {},
   "source": [
    "No missing values, we now compute the outliers and we remove them to have a more precise study :"
   ]
  },
  {
   "cell_type": "code",
   "execution_count": 3,
   "metadata": {},
   "outputs": [
    {
     "data": {
      "image/png": "[encoded data removed]",
      "text/plain": [
       "<Figure size 1400x500 with 2 Axes>"
      ]
     },
     "metadata": {},
     "output_type": "display_data"
    }
   ],
   "source": [
    "plt.figure(figsize=(14,5));\n",
    "\n",
    "# Left plot : raw data (boxplot of accepted (or not) rides)\n",
    "plt.subplot(121)\n",
    "sns.boxplot(x=\"ACCEPTED\",y=\"PAY\",data=data);\n",
    "plt.title(\"With outliers\");\n",
    "\n",
    "# Removal of values outside of \"PAY\" interquartile\n",
    "for i in [0,1]:\n",
    "    for x in ['PAY']:\n",
    "        data_temp = data[data[\"ACCEPTED\"]==i]\n",
    "        q75,q25 = np.percentile(data_temp.loc[:,x],[75,25])\n",
    "        intr_qr = q75-q25\n",
    "    \n",
    "        max = q75+(1.5*intr_qr)\n",
    "        min = q25-(1.5*intr_qr)\n",
    "    \n",
    "        data_temp.loc[data_temp[x] < min,x] = np.nan\n",
    "        data_temp.loc[data_temp[x] > max,x] = np.nan\n",
    "\n",
    "        data[data[\"ACCEPTED\"]==i] = data_temp\n",
    "\n",
    "# Right plot : same boxplot without outliers\n",
    "plt.subplot(122)\n",
    "sns.boxplot(x=\"ACCEPTED\",y=\"PAY\",data=data);\n",
    "plt.title(\"Without outliers\");"
   ]
  },
  {
   "cell_type": "markdown",
   "metadata": {},
   "source": [
    "Now the data is cleared, we can compute the relation between acceptance probability and pay :"
   ]
  },
  {
   "cell_type": "code",
   "execution_count": 4,
   "metadata": {},
   "outputs": [
    {
     "name": "stdout",
     "output_type": "stream",
     "text": [
      "Probability of accetping the ride : 0.91 for a 29 $ paid ride\n"
     ]
    },
    {
     "data": {
      "image/png": "[encoded data removed]",
      "text/plain": [
       "<Figure size 1400x500 with 1 Axes>"
      ]
     },
     "metadata": {},
     "output_type": "display_data"
    }
   ],
   "source": [
    "# Arbitrary price\n",
    "price = 29\n",
    "\n",
    "# Building x and y values : respectively pay and probability of accetpance associated\n",
    "x_plot = []\n",
    "y_plot = []\n",
    "max_pay = data[\"PAY\"].max()\n",
    "for i in range(int(np.round(max_pay))):\n",
    "    y = data[data[\"PAY\"]>=i][\"ACCEPTED\"].mean()\n",
    "    x_plot.append(i)\n",
    "    y_plot.append(y)\n",
    "\n",
    "# Creation of a dataframe with these values\n",
    "dict_test = {\"pay\":x_plot,\"prob\":y_plot}\n",
    "df = pd.DataFrame.from_dict(dict_test)\n",
    "\n",
    "# Plotting \n",
    "plt.figure(figsize=(14,5));\n",
    "sns.lineplot(x=\"pay\",y=\"prob\",data=df,color=\"red\");\n",
    "plt.axvline(x=price,linestyle=\"--\",color=\"black\");\n",
    "plt.axhline(y=df[\"prob\"][price],linestyle=\"--\",color=\"black\", label = \"Price cursor\");\n",
    "plt.axvline(x=30,linestyle=\"--\",color=\"red\", label = \"Deficit line\")\n",
    "plt.title(\"Probability of acceptance per pay | Price = \" + str(price) + \" | Probabilty = \" + str(np.round(df[\"prob\"][price],3)));\n",
    "plt.legend(loc=\"best\");\n",
    "print(f'Probability of accetping the ride : {np.round(df[\"prob\"][price],3)} for a {price} $ paid ride')"
   ]
  },
  {
   "cell_type": "markdown",
   "metadata": {},
   "source": [
    "## Using external data <a class=\"anchor\" id=\"external-data\"></a>"
   ]
  },
  {
   "cell_type": "markdown",
   "metadata": {},
   "source": [
    "Here we use data we found on internet to find the average salary a uber driver gets for the same job. The commentaries on the codes explains what we found, and the sources :"
   ]
  },
  {
   "cell_type": "code",
   "execution_count": 5,
   "metadata": {},
   "outputs": [
    {
     "name": "stdout",
     "output_type": "stream",
     "text": [
      "We need to pay 12.0 $ minimum for a driver\n"
     ]
    }
   ],
   "source": [
    "# three main source : Gasoline 9,000,000 / E85 875,000 / Diesel 199,000 in 2021\n",
    "# https://afdc.energy.gov/states/OH\n",
    "\n",
    "gas_price = 4.52 # $/gallon\n",
    "e85_price = 3.97 # $/gallon\n",
    "diesel_price = 5.50 # $/gallon\n",
    "\n",
    "# distance toledo : airport - downtown (AD)\n",
    "# https://www.google.com/maps\n",
    "\n",
    "AD_time = 22 # minutes\n",
    "AD_distance = 20.5 # miles\n",
    "\n",
    "# moyenne consommation voitures\n",
    "# https://www.kaggle.com/datasets/uciml/autompg-dataset\n",
    "\n",
    "mpg_mean = 23 #miles/gallon\n",
    "\n",
    "# uber driver salary median in ohio\n",
    "# https://www.salary.com/tools/salary-calculator/uber-driver-hourly/oh\n",
    "\n",
    "avg_salary = 18 # $/hour or pure benefit needed to match average salary\n",
    "travel_salary = np.round(avg_salary*(AD_time/60),0)\n",
    "\n",
    "# how much a ride (AD) costs to a driver\n",
    "\n",
    "driver_cost = pd.DataFrame(columns=[\"gas\",\"e85\",\"diesel\"]) # dataframe creation\n",
    "driver_cost.loc[\"proportion\",:] = [9000000,875000,199000] # proportion of uses\n",
    "\n",
    "total_proportion = driver_cost.loc[\"proportion\",:].sum() # total cases\n",
    "\n",
    "driver_cost.loc[\"percent\",:] = driver_cost.loc[\"proportion\",:]/total_proportion # percentage of uses\n",
    "driver_cost.loc[\"price\",:] = [gas_price,e85_price,diesel_price] # mpg for uses\n",
    "driver_cost.loc[\"travel_price\",:] = (mpg_mean/AD_distance)*driver_cost.loc[\"price\",:] # travel (22 min) price for drivers\n",
    "\n",
    "# how much money we need to pay a driver to match average salary \n",
    "\n",
    "driver_cost.loc[\"travel_total_needed\",:] = driver_cost.loc[\"travel_price\",:]+travel_salary\n",
    "driver_cost.loc[\"weighted_total\",:] = driver_cost.loc[\"percent\",:]*driver_cost.loc[\"travel_total_needed\",:]\n",
    "\n",
    "weighted_avg = np.round(driver_cost.loc[\"weighted_total\"].sum(),1)\n",
    "print(f'We need to pay {weighted_avg} $ minimum for a driver')"
   ]
  },
  {
   "cell_type": "code",
   "execution_count": 12,
   "metadata": {},
   "outputs": [
    {
     "data": {
      "text/html": [
       "<div>\n",
       "<style scoped>\n",
       "    .dataframe tbody tr th:only-of-type {\n",
       "        vertical-align: middle;\n",
       "    }\n",
       "\n",
       "    .dataframe tbody tr th {\n",
       "        vertical-align: top;\n",
       "    }\n",
       "\n",
       "    .dataframe thead th {\n",
       "        text-align: right;\n",
       "    }\n",
       "</style>\n",
       "<table border=\"1\" class=\"dataframe\">\n",
       "  <thead>\n",
       "    <tr style=\"text-align: right;\">\n",
       "      <th></th>\n",
       "      <th>gas</th>\n",
       "      <th>e85</th>\n",
       "      <th>diesel</th>\n",
       "    </tr>\n",
       "  </thead>\n",
       "  <tbody>\n",
       "    <tr>\n",
       "      <th>proportion</th>\n",
       "      <td>9000000</td>\n",
       "      <td>875000</td>\n",
       "      <td>199000</td>\n",
       "    </tr>\n",
       "    <tr>\n",
       "      <th>percent</th>\n",
       "      <td>0.893389</td>\n",
       "      <td>0.086857</td>\n",
       "      <td>0.019754</td>\n",
       "    </tr>\n",
       "    <tr>\n",
       "      <th>price</th>\n",
       "      <td>4.52</td>\n",
       "      <td>3.97</td>\n",
       "      <td>5.5</td>\n",
       "    </tr>\n",
       "    <tr>\n",
       "      <th>travel_price</th>\n",
       "      <td>5.07122</td>\n",
       "      <td>4.454146</td>\n",
       "      <td>6.170732</td>\n",
       "    </tr>\n",
       "    <tr>\n",
       "      <th>travel_total_needed</th>\n",
       "      <td>12.07122</td>\n",
       "      <td>11.454146</td>\n",
       "      <td>13.170732</td>\n",
       "    </tr>\n",
       "    <tr>\n",
       "      <th>weighted_total</th>\n",
       "      <td>10.784294</td>\n",
       "      <td>0.994876</td>\n",
       "      <td>0.260172</td>\n",
       "    </tr>\n",
       "  </tbody>\n",
       "</table>\n",
       "</div>"
      ],
      "text/plain": [
       "                           gas        e85     diesel\n",
       "proportion             9000000     875000     199000\n",
       "percent               0.893389   0.086857   0.019754\n",
       "price                     4.52       3.97        5.5\n",
       "travel_price           5.07122   4.454146   6.170732\n",
       "travel_total_needed   12.07122  11.454146  13.170732\n",
       "weighted_total       10.784294   0.994876   0.260172"
      ]
     },
     "metadata": {},
     "output_type": "display_data"
    }
   ],
   "source": [
    "display(driver_cost)"
   ]
  },
  {
   "cell_type": "markdown",
   "metadata": {},
   "source": [
    "Now that we now that we can't pay a driver less than 12$ (otherwise, the company couldn't match competition) and not more than 30$ (negative profit), we can set few things we need to make our study :"
   ]
  },
  {
   "cell_type": "markdown",
   "metadata": {},
   "source": [
    "## Settings <a class=\"anchor\" id=\"settings\"></a>"
   ]
  },
  {
   "cell_type": "markdown",
   "metadata": {},
   "source": [
    "### Variables"
   ]
  },
  {
   "cell_type": "code",
   "execution_count": 6,
   "metadata": {},
   "outputs": [],
   "source": [
    "# Maximum riders for a month\n",
    "max_per_months = 1000\n",
    "# Maximum riders for a year\n",
    "max_per_year = 10000\n",
    "# Optimal number of riders per month to smooth the riders number through the year\n",
    "optimum_per_months = int(np.round(max_per_year/12))"
   ]
  },
  {
   "cell_type": "markdown",
   "metadata": {},
   "source": [
    "### Functions"
   ]
  },
  {
   "cell_type": "code",
   "execution_count": 7,
   "metadata": {},
   "outputs": [],
   "source": [
    "# Homemade factorial function\n",
    "def factorial(n):\n",
    "    fact = 1\n",
    "    for i in range(1,n+1):\n",
    "        fact *=i\n",
    "    return fact\n",
    "\n",
    "# Function that returns the probability of Poisson distribution returning k in depending on l (lambda) \n",
    "def poisson_prob(k,l):\n",
    "    p = (l**k/factorial(k))*np.exp(-l)\n",
    "    return p\n",
    "\n",
    "# Function that returns repartition of set size by a Poisson distribution\n",
    "def poisson_repart(l,size):\n",
    "    return int(np.random.poisson(l,size))\n",
    "\n",
    "# Function that returns the probability of acceptance of an input price\n",
    "def get_prob_from_price(price):\n",
    "    return df[\"prob\"][price]\n",
    "\n",
    "# Function that returns the number of accepted ride requests depending on number of asked requests\n",
    "def is_accepted(request_number):\n",
    "    if request_number != 0:\n",
    "        n_accepted = 0\n",
    "        for i in range(request_number):\n",
    "            accepted_request = np.random.choice([0,1],p=[1-get_prob_from_price(price),get_prob_from_price(price)])\n",
    "            n_accepted += accepted_request\n",
    "        return n_accepted\n",
    "    else:\n",
    "        return 0\n",
    "\n",
    "# Class that creates a rider\n",
    "class Rider():\n",
    "    def __init__(self,idx,request):\n",
    "        self.idx = idx\n",
    "        self.request = request\n",
    "    \n",
    "    def accepted(self):\n",
    "        return is_accepted(self.request)\n",
    "\n",
    "# Function that creates a month dataframe with index of riders, requests asked and accepted of each riders\n",
    "def get_riders_for_a_month(n_riders):\n",
    "    month1 = pd.DataFrame(columns=[\"idx\",\"request\",\"accepted\"])\n",
    "    n=1\n",
    "    while len(month1)<n_riders:\n",
    "        rider = Rider(n,poisson_repart(1,1))\n",
    "        month1.loc[n-1,:] = [rider.idx,rider.request,rider.accepted()]\n",
    "        n += 1\n",
    "    return month1\n",
    "\n",
    "# Function that returns a dictionary with total number of riders, accepted and asked requests and the potential profit according to the input price\n",
    "def get_month_result(month,price):\n",
    "    sum_accepted = month[\"accepted\"].sum()\n",
    "    sum_requests = month[\"request\"].sum()\n",
    "    potential_profit = sum_accepted*(30-price)\n",
    "    result_dict = {\"total_riders\" : len(month), \"accepted_requests\" : sum_accepted, \"total_requests\": sum_requests, \"potential_profit\" : potential_profit }\n",
    "    return result_dict\n",
    "\n",
    "# Function that creates a new month according too the previous month (according to the constraints)\n",
    "def new_month(previous_month):\n",
    "    remaining = previous_month[previous_month[\"accepted\"]!=0]\n",
    "    new_riders_needed = optimum_per_months-len(remaining)\n",
    "\n",
    "    new_riders = get_riders_for_a_month(new_riders_needed)\n",
    "\n",
    "    new_month = pd.DataFrame(columns=[\"idx\",\"request\",\"accepted\"])\n",
    "\n",
    "\n",
    "    for idx,lbda in enumerate(remaining[\"accepted\"]):\n",
    "        new_month.loc[idx,\"request\"] = int(poisson_repart(lbda,1))\n",
    "\n",
    "    for idx,item in enumerate(new_month[\"request\"]):\n",
    "        new_month.loc[idx,\"accepted\"] = int(is_accepted(item))\n",
    "\n",
    "    new_month[\"idx\"] = remaining.index\n",
    "    final_month = pd.concat([new_month,new_riders])\n",
    "\n",
    "    return final_month\n",
    "\n",
    "# Function that creates 12 monthly results for a year\n",
    "def get_each_month_created():\n",
    "    for i in np.arange(1,13,1):\n",
    "        if i == 1:\n",
    "           globals()[\"month\" + str(i)] =  get_riders_for_a_month(optimum_per_months)\n",
    "        else:\n",
    "            globals()[\"month\" + str(i)] = new_month(globals()[\"month\" + str(i-1)])\n",
    "        \n",
    "# Function that returns a dataframe with annual results according to the input price, and months created\n",
    "def get_annual_results(price):\n",
    "    annual_results = pd.DataFrame(columns=[\"riders\",\"requests\",\"accepted\",\"profit\"])\n",
    "\n",
    "    for i in range(1,13):\n",
    "        annual_results.loc[i,\"riders\"] = get_month_result(globals()[\"month\" + str(i)],price)[\"total_riders\"]\n",
    "        annual_results.loc[i,\"requests\"] = get_month_result(globals()[\"month\" + str(i)],price)[\"total_requests\"]\n",
    "        annual_results.loc[i,\"accepted\"] = get_month_result(globals()[\"month\" + str(i)],price)[\"accepted_requests\"]\n",
    "        annual_results.loc[i,\"profit\"] = get_month_result(globals()[\"month\" + str(i)],price)[\"potential_profit\"]\n",
    "    return annual_results\n",
    "\n",
    "# Function that returns an array with price in a range of min-max price, and a second array with profit associated with each price\n",
    "def get_profit():\n",
    "    price_array = []\n",
    "    price_profit = []\n",
    "    min_price = int(weighted_avg)\n",
    "    max_price = 30\n",
    "    for it_price in tqdm(range(min_price,max_price)):\n",
    "        price = it_price\n",
    "        price_array.append(price)\n",
    "\n",
    "        get_each_month_created()\n",
    "        results = get_annual_results(price)\n",
    "\n",
    "        price_profit.append(results[\"profit\"].sum())\n",
    "    return price_array,price_profit\n",
    "\n",
    "# Function that uses price and profit arrays to compute a plot of profit and probability of acceptance per price, and a dictionnary of optimal price, probability and profit associated\n",
    "def show_result(price_array,profit_array):\n",
    "    scaler1 = MinMaxScaler()\n",
    "    scaler2 = MinMaxScaler()\n",
    "\n",
    "    x=price_array\n",
    "    y1=np.array(profit_array)\n",
    "    y2=np.array(get_prob_from_price(price_array))\n",
    "\n",
    "    scaler1.fit(y1.reshape(-1,1))\n",
    "    y1_scaled = scaler1.transform(y1.reshape(-1,1))\n",
    "\n",
    "    scaler2.fit(y2.reshape(-1,1))\n",
    "    y2_scaled = scaler2.transform(y2.reshape(-1,1))\n",
    "\n",
    "    fig, ax1 = plt.subplots()\n",
    "\n",
    "    ax1.set_xticks([i for i in range(12,30)])\n",
    "    ax2 = ax1.twinx()\n",
    "    sns.lineplot(x=x, y=y1,color=\"blue\",ax=ax1)\n",
    "    sns.lineplot(x=x, y=y2,ax=ax2,color=\"green\")\n",
    "\n",
    "    idx = np.argmin(abs(y1_scaled-y2_scaled))\n",
    "    ax1.set_xlabel('Price')\n",
    "    ax1.set_ylabel('Profit', color='g')\n",
    "    ax2.set_ylabel('Probability', color='b')\n",
    "\n",
    "    opt_price = x[idx]\n",
    "    opt_profit = y1[idx]\n",
    "    opt_prob = y2[idx]\n",
    "    plt.axvline(x=opt_price,color=\"red\");\n",
    "    plt.title(\"Profit and probability of acceptance per driver price\");\n",
    "    plt.close()\n",
    "\n",
    "    result_dict = {\"price\":opt_price, \"prob\":opt_prob, \"profit\":opt_profit}\n",
    "    return fig,result_dict"
   ]
  },
  {
   "cell_type": "markdown",
   "metadata": {},
   "source": [
    "## Annual simulation <a class=\"anchor\" id=\"annual-simulation\"></a>"
   ]
  },
  {
   "cell_type": "markdown",
   "metadata": {},
   "source": [
    "Because through one year, results won't be meaningful, we compute 6 annual results, and we compute the mean of these results to get our optimal price : "
   ]
  },
  {
   "cell_type": "code",
   "execution_count": 8,
   "metadata": {},
   "outputs": [
    {
     "name": "stdout",
     "output_type": "stream",
     "text": [
      "1/6:\n"
     ]
    },
    {
     "name": "stderr",
     "output_type": "stream",
     "text": [
      "100%|██████████| 18/18 [01:01<00:00,  3.39s/it]\n"
     ]
    },
    {
     "name": "stdout",
     "output_type": "stream",
     "text": [
      "2/6:\n"
     ]
    },
    {
     "name": "stderr",
     "output_type": "stream",
     "text": [
      "100%|██████████| 18/18 [01:01<00:00,  3.41s/it]\n"
     ]
    },
    {
     "name": "stdout",
     "output_type": "stream",
     "text": [
      "3/6:\n"
     ]
    },
    {
     "name": "stderr",
     "output_type": "stream",
     "text": [
      "100%|██████████| 18/18 [01:00<00:00,  3.37s/it]\n"
     ]
    },
    {
     "name": "stdout",
     "output_type": "stream",
     "text": [
      "4/6:\n"
     ]
    },
    {
     "name": "stderr",
     "output_type": "stream",
     "text": [
      "100%|██████████| 18/18 [01:01<00:00,  3.41s/it]\n"
     ]
    },
    {
     "name": "stdout",
     "output_type": "stream",
     "text": [
      "5/6:\n"
     ]
    },
    {
     "name": "stderr",
     "output_type": "stream",
     "text": [
      "100%|██████████| 18/18 [01:00<00:00,  3.35s/it]\n"
     ]
    },
    {
     "name": "stdout",
     "output_type": "stream",
     "text": [
      "6/6:\n"
     ]
    },
    {
     "name": "stderr",
     "output_type": "stream",
     "text": [
      "100%|██████████| 18/18 [01:01<00:00,  3.40s/it]\n"
     ]
    }
   ],
   "source": [
    "plots = []\n",
    "final_results = pd.DataFrame(columns=[\"year\",\"opt_price\",\"opt_prob\",\"opt_profit\"])\n",
    "for year in np.arange(1,7,1):\n",
    "    print(f'{year}/{6}:')\n",
    "    annual = get_profit()\n",
    "    results = show_result(annual[0],annual[1])\n",
    "    plots.append(results[0])\n",
    "\n",
    "    year_result_df = pd.DataFrame.from_dict({\"year\":[year],\n",
    "                    \"opt_price\":[results[1][\"price\"]],\n",
    "                    \"opt_prob\":[results[1][\"prob\"]],\n",
    "                    \"opt_profit\":[results[1][\"profit\"]]})\n",
    "    final_results = pd.concat([final_results,year_result_df])\n",
    "final_results.to_csv(\"results.csv\")"
   ]
  },
  {
   "cell_type": "markdown",
   "metadata": {},
   "source": [
    "Example of an annual result plot : "
   ]
  },
  {
   "cell_type": "code",
   "execution_count": 9,
   "metadata": {},
   "outputs": [
    {
     "data": {
      "image/png": "[encoded data removed]",
      "text/plain": [
       "<Figure size 640x480 with 2 Axes>"
      ]
     },
     "execution_count": 9,
     "metadata": {},
     "output_type": "execute_result"
    }
   ],
   "source": [
    "plots[0]"
   ]
  },
  {
   "cell_type": "markdown",
   "metadata": {},
   "source": [
    "Here we can find the results of the 6 annual simulation :"
   ]
  },
  {
   "cell_type": "code",
   "execution_count": 10,
   "metadata": {},
   "outputs": [
    {
     "data": {
      "text/plain": [
       "opt_price         21.00\n",
       "opt_prob           0.73\n",
       "opt_profit    155269.50\n",
       "dtype: float64"
      ]
     },
     "execution_count": 10,
     "metadata": {},
     "output_type": "execute_result"
    }
   ],
   "source": [
    "final_results.mean()[1:].round(2)"
   ]
  },
  {
   "cell_type": "markdown",
   "metadata": {},
   "source": [
    "## Results interpretation <a class=\"anchor\" id=\"interpretation\"></a>"
   ]
  },
  {
   "cell_type": "markdown",
   "metadata": {},
   "source": [
    "Through our study, we found that if we set our price (for drivers pay) at 21 \\$, it has the best balance between the probability the driver will accept the deal, and the profit the company makes with such a price a year.\n",
    "\n",
    "But a question needs to be answered : Why such a balance ?\n",
    "\n",
    "This comes from two major points : \n",
    "\n",
    "1. The higher the price, the higher the profit. So, if we set a price to 1\\$, the company profit will be huge. And if we set a price to 29\\$ (1\\$ profit), it will be very low. It seems obvious, but it makes much more sense considering the second point.\n",
    "\n",
    "2. The company reputation from riders and drivers is an important key of success, and maintaining profits through the year. If we set price to a low value, profit will increase but not many drivers will accept the ride. Then, how a person will use the company application if most of it's rides are declined ? \n",
    "\n",
    "To find a compromise between a good profit, and a good reputation, this balance is needed.\n",
    "\n",
    "As we said previously, a driver needs at least 5\\$ to make the ride profitable. Then, for a ride, the driver also needs 7\\$ more to match the average salary. Considering the given data, with a 21\\$ price, 3 drivers out of 4 will accept the ride, and will earn better than the average salary. Because customers satisfaction is important, this price seems to be correct, and still makes the company profitable (around 107,000\\$ a year)\n",
    "\n",
    "However, few points can bias the results :\n",
    ">+ Dependencie of Poisson distribution laws\n",
    ">+ Only one dataset given, with only one feature\n",
    ">+ Lack of information of what could make a driver accept or not\n",
    ">+ No information of given data (source ? year ? country ? ride path ?)\n",
    ">+ Data to have the average salary could have been more precised and not time-spreaded \n",
    "\n",
    "Finally, even if, intuitionously a 21\\$ seems correct, for a 9\\$ profit per ride, it needs to be taken with coutious, because of the biases it has.\n",
    "\n",
    "If you have any suggestion on what could make this study better, or even raise a point of a mistake that could be made, don't hesitate to reach me at jordan.porcu@gmail.com."
   ]
  }
 ],
 "metadata": {
  "kernelspec": {
   "display_name": "Python 3.9.2 64-bit",
   "language": "python",
   "name": "python3"
  },
  "language_info": {
   "codemirror_mode": {
    "name": "ipython",
    "version": 3
   },
   "file_extension": ".py",
   "mimetype": "text/x-python",
   "name": "python",
   "nbconvert_exporter": "python",
   "pygments_lexer": "ipython3",
   "version": "3.9.2"
  },
  "orig_nbformat": 4,
  "vscode": {
   "interpreter": {
    "hash": "374aeb0ec5b4e2eb0883532f4bc729b84c23b17c2796968bdc69d5879eefb4be"
   }
  }
 },
 "nbformat": 4,
 "nbformat_minor": 2
}
